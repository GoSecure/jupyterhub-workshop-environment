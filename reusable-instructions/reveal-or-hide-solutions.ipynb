{
 "cells": [
  {
   "cell_type": "markdown",
   "id": "31b4ba03-40c9-4ef1-81d2-804f521e1ebd",
   "metadata": {},
   "source": [
    "# Reveal solutions"
   ]
  },
  {
   "cell_type": "code",
   "execution_count": 2,
   "id": "0f903490-bc73-447c-90be-31c00130cc01",
   "metadata": {},
   "outputs": [],
   "source": [
    "!sudo chmod go+rx /srv/workshop/solutions/\n",
    "!sudo chmod go+r /srv/workshop/solutions/*"
   ]
  },
  {
   "cell_type": "markdown",
   "id": "87bd9287-42da-42a1-b238-1e9cd395abc1",
   "metadata": {},
   "source": [
    "# Hide solutions"
   ]
  },
  {
   "cell_type": "code",
   "execution_count": 3,
   "id": "00621853-0b3e-4a46-ab31-23c5d28db910",
   "metadata": {},
   "outputs": [],
   "source": [
    "!sudo chmod go-rx /srv/workshop/solutions/"
   ]
  }
 ],
 "metadata": {
  "kernelspec": {
   "display_name": "Python 3 (ipykernel)",
   "language": "python",
   "name": "python3"
  },
  "language_info": {
   "codemirror_mode": {
    "name": "ipython",
    "version": 3
   },
   "file_extension": ".py",
   "mimetype": "text/x-python",
   "name": "python",
   "nbconvert_exporter": "python",
   "pygments_lexer": "ipython3",
   "version": "3.10.10"
  }
 },
 "nbformat": 4,
 "nbformat_minor": 5
}
